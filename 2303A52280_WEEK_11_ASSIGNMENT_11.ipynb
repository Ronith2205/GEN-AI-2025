{
  "nbformat": 4,
  "nbformat_minor": 0,
  "metadata": {
    "colab": {
      "provenance": [],
      "authorship_tag": "ABX9TyNBDVpFjRGupkp9ohMhkkYq",
      "include_colab_link": true
    },
    "kernelspec": {
      "name": "python3",
      "display_name": "Python 3"
    },
    "language_info": {
      "name": "python"
    }
  },
  "cells": [
    {
      "cell_type": "markdown",
      "metadata": {
        "id": "view-in-github",
        "colab_type": "text"
      },
      "source": [
        "<a href=\"https://colab.research.google.com/github/Ronith2205/GEN-AI-2025/blob/main/2303A52280_WEEK_11_ASSIGNMENT_11.ipynb\" target=\"_parent\"><img src=\"https://colab.research.google.com/assets/colab-badge.svg\" alt=\"Open In Colab\"/></a>"
      ]
    },
    {
      "cell_type": "code",
      "source": [
        "import tensorflow as tf\n",
        "from tensorflow import keras\n",
        "from tensorflow.keras import layers\n",
        "import numpy as np\n",
        "import zipfile\n",
        "from PIL import Image\n",
        "import io\n",
        "import os\n",
        "\n",
        "train_data_path = \"/content/train-20250404T145129Z-001.zip\"\n",
        "validation_data_path = \"/content/validation-20250404T145130Z-001.zip\"\n",
        "\n",
        "# Image preprocessing and data augmentation\n",
        "image_size = (150, 150)  # Adjust as needed\n",
        "batch_size = 32\n",
        "\n",
        "# Function to load images from zip file\n",
        "def load_images_from_zip(zip_path, target_size):\n",
        "    images = []\n",
        "    labels = []\n",
        "    with zipfile.ZipFile(zip_path, 'r') as zip_ref:\n",
        "        for file_info in zip_ref.infolist():\n",
        "            if file_info.filename.endswith(('.png', '.jpg', '.jpeg')):  # Adjust file extensions as needed\n",
        "                # Get class label from folder name\n",
        "                class_label = os.path.basename(os.path.dirname(file_info.filename))\n",
        "\n",
        "                # Read image data and resize\n",
        "                with zip_ref.open(file_info.filename) as image_file:\n",
        "                    image = Image.open(io.BytesIO(image_file.read()))\n",
        "                    image = image.resize(target_size)\n",
        "                    image = np.array(image)\n",
        "                    images.append(image)\n",
        "                    labels.append(class_label)\n",
        "\n",
        "    return np.array(images), np.array(labels)\n",
        "\n",
        "# Load training and validation data\n",
        "train_images, train_labels = load_images_from_zip(train_data_path, image_size)\n",
        "validation_images, validation_labels = load_images_from_zip(validation_data_path, image_size)\n",
        "\n",
        "# Preprocess images (rescale pixel values)\n",
        "train_images = train_images / 255.0\n",
        "validation_images = validation_images / 255.0\n",
        "\n",
        "# One-hot encode labels (if needed)\n",
        "from sklearn.preprocessing import LabelEncoder\n",
        "from tensorflow.keras.utils import to_categorical\n",
        "\n",
        "label_encoder = LabelEncoder()\n",
        "train_labels_encoded = label_encoder.fit_transform(train_labels)\n",
        "validation_labels_encoded = label_encoder.transform(validation_labels)\n",
        "\n",
        "num_classes = len(label_encoder.classes_)\n",
        "train_labels_onehot = to_categorical(train_labels_encoded, num_classes=num_classes)\n",
        "validation_labels_onehot = to_categorical(validation_labels_encoded, num_classes=num_classes)\n",
        "\n",
        "# CNN Model Architecture\n",
        "def create_model():\n",
        "  model = keras.Sequential([\n",
        "      layers.Conv2D(64, (3, 3), activation='relu', input_shape=(150, 150, 3)),\n",
        "      layers.MaxPooling2D((2, 2)),\n",
        "      layers.Conv2D(128, (3, 3), activation='relu'),\n",
        "      layers.MaxPooling2D((2, 2)),\n",
        "      layers.Conv2D(256, (3,3), activation='relu'),\n",
        "      layers.MaxPooling2D((2,2)),\n",
        "      layers.Flatten(),\n",
        "      layers.Dense(256, activation='relu'),\n",
        "      layers.Dense(num_classes, activation='softmax')\n",
        "  ])\n",
        "  return model\n",
        "\n",
        "# Create and compile the model\n",
        "model = create_model()\n",
        "model.compile(optimizer='adadelta', loss='categorical_crossentropy', metrics=['accuracy'])\n",
        "\n",
        "# Train the model\n",
        "epochs = 10\n",
        "history = model.fit(\n",
        "    train_images,\n",
        "    train_labels_onehot,\n",
        "    batch_size=batch_size,\n",
        "    epochs=epochs,\n",
        "    validation_data=(validation_images, validation_labels_onehot)\n",
        ")\n",
        "\n",
        "# Evaluate the model\n",
        "loss, accuracy = model.evaluate(validation_images, validation_labels_onehot, verbose=0)\n",
        "print(f\"Test Loss: {loss:.4f}\")\n",
        "print(f\"Test Accuracy: {accuracy:.4f}\")"
      ],
      "metadata": {
        "colab": {
          "base_uri": "https://localhost:8080/"
        },
        "id": "E0os2ciPyQGb",
        "outputId": "da2f7ede-3c75-4326-cf76-ea1923cb161d"
      },
      "execution_count": 6,
      "outputs": [
        {
          "output_type": "stream",
          "name": "stderr",
          "text": [
            "/usr/local/lib/python3.11/dist-packages/keras/src/layers/convolutional/base_conv.py:107: UserWarning: Do not pass an `input_shape`/`input_dim` argument to a layer. When using Sequential models, prefer using an `Input(shape)` object as the first layer in the model instead.\n",
            "  super().__init__(activity_regularizer=activity_regularizer, **kwargs)\n"
          ]
        },
        {
          "output_type": "stream",
          "name": "stdout",
          "text": [
            "Epoch 1/10\n",
            "\u001b[1m1/1\u001b[0m \u001b[32m━━━━━━━━━━━━━━━━━━━━\u001b[0m\u001b[37m\u001b[0m \u001b[1m4s\u001b[0m 4s/step - accuracy: 0.5000 - loss: 0.6897 - val_accuracy: 0.5000 - val_loss: 0.6882\n",
            "Epoch 2/10\n",
            "\u001b[1m1/1\u001b[0m \u001b[32m━━━━━━━━━━━━━━━━━━━━\u001b[0m\u001b[37m\u001b[0m \u001b[1m2s\u001b[0m 2s/step - accuracy: 0.7500 - loss: 0.6858 - val_accuracy: 0.5000 - val_loss: 0.6877\n",
            "Epoch 3/10\n",
            "\u001b[1m1/1\u001b[0m \u001b[32m━━━━━━━━━━━━━━━━━━━━\u001b[0m\u001b[37m\u001b[0m \u001b[1m1s\u001b[0m 1s/step - accuracy: 0.7500 - loss: 0.6822 - val_accuracy: 0.5000 - val_loss: 0.6873\n",
            "Epoch 4/10\n",
            "\u001b[1m1/1\u001b[0m \u001b[32m━━━━━━━━━━━━━━━━━━━━\u001b[0m\u001b[37m\u001b[0m \u001b[1m1s\u001b[0m 1s/step - accuracy: 0.7500 - loss: 0.6785 - val_accuracy: 0.5000 - val_loss: 0.6870\n",
            "Epoch 5/10\n",
            "\u001b[1m1/1\u001b[0m \u001b[32m━━━━━━━━━━━━━━━━━━━━\u001b[0m\u001b[37m\u001b[0m \u001b[1m2s\u001b[0m 2s/step - accuracy: 1.0000 - loss: 0.6750 - val_accuracy: 0.5000 - val_loss: 0.6868\n",
            "Epoch 6/10\n",
            "\u001b[1m1/1\u001b[0m \u001b[32m━━━━━━━━━━━━━━━━━━━━\u001b[0m\u001b[37m\u001b[0m \u001b[1m1s\u001b[0m 1s/step - accuracy: 1.0000 - loss: 0.6718 - val_accuracy: 0.7500 - val_loss: 0.6866\n",
            "Epoch 7/10\n",
            "\u001b[1m1/1\u001b[0m \u001b[32m━━━━━━━━━━━━━━━━━━━━\u001b[0m\u001b[37m\u001b[0m \u001b[1m2s\u001b[0m 2s/step - accuracy: 1.0000 - loss: 0.6687 - val_accuracy: 0.7500 - val_loss: 0.6865\n",
            "Epoch 8/10\n",
            "\u001b[1m1/1\u001b[0m \u001b[32m━━━━━━━━━━━━━━━━━━━━\u001b[0m\u001b[37m\u001b[0m \u001b[1m1s\u001b[0m 1s/step - accuracy: 1.0000 - loss: 0.6658 - val_accuracy: 0.7500 - val_loss: 0.6864\n",
            "Epoch 9/10\n",
            "\u001b[1m1/1\u001b[0m \u001b[32m━━━━━━━━━━━━━━━━━━━━\u001b[0m\u001b[37m\u001b[0m \u001b[1m1s\u001b[0m 1s/step - accuracy: 1.0000 - loss: 0.6630 - val_accuracy: 0.7500 - val_loss: 0.6862\n",
            "Epoch 10/10\n",
            "\u001b[1m1/1\u001b[0m \u001b[32m━━━━━━━━━━━━━━━━━━━━\u001b[0m\u001b[37m\u001b[0m \u001b[1m1s\u001b[0m 1s/step - accuracy: 1.0000 - loss: 0.6604 - val_accuracy: 0.7500 - val_loss: 0.6861\n",
            "Test Loss: 0.6861\n",
            "Test Accuracy: 0.7500\n"
          ]
        }
      ]
    }
  ]
}